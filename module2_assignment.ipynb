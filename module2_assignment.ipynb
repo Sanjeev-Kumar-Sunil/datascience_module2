{
 "cells": [
  {
   "cell_type": "code",
   "execution_count": 1,
   "metadata": {},
   "outputs": [
    {
     "name": "stdout",
     "output_type": "stream",
     "text": [
      "Enter a sequence of comma separated numbers1,2,4,3,8,10,11,23,432\n",
      "['1', '2', '4', '3', '8', '10', '11', '23', '432']\n"
     ]
    }
   ],
   "source": [
    "# Assignment 2.1\n",
    "# A simple program in python which accept the sequence of comma separated number and generate a list.\n",
    "data = input(\"Enter a sequence of comma separated numbers\") #takes sequence of comma seprated no as a string and store in data\n",
    "data_list = data.split(\",\") # data.split(\",\") function split the string seprated by comma and store in list data_list\n",
    "print(data_list) # entire data_list is printed as output"
   ]
  },
  {
   "cell_type": "code",
   "execution_count": 2,
   "metadata": {},
   "outputs": [
    {
     "name": "stdout",
     "output_type": "stream",
     "text": [
      "\n",
      "* \n",
      "* * \n",
      "* * * \n",
      "* * * * \n",
      "* * * * * \n",
      "* * * * \n",
      "* * * \n",
      "* * \n",
      "* "
     ]
    }
   ],
   "source": [
    "# Assignment 2.2\n",
    "# A simple program in python to create a vertical pyramid using *.\n",
    "for i in range(1,10): #outer loop control the no of rows in the star pattern\n",
    "    print(\"\")\n",
    "    for j in range(1,6):# inner loop control the no of columns(no of stars) printed per row\n",
    "        if i <= 5:\n",
    "            if i >= j:\n",
    "                print(\"*\", end=\" \")# printing top 5 rows of pattern\n",
    "        else:\n",
    "            if j <= 10-i:\n",
    "                print(\"*\", end=\" \")# printing bottom 4 rows of pattern"
   ]
  },
  {
   "cell_type": "code",
   "execution_count": 3,
   "metadata": {},
   "outputs": [
    {
     "name": "stdout",
     "output_type": "stream",
     "text": [
      "Please enter a word or stringAcadGild\n",
      "dliGdacA\n"
     ]
    }
   ],
   "source": [
    "# Assignment 2.3\n",
    "# A simple program to reverse a word after accepting a input from the user\n",
    "data = input(\"Please enter a word or string\") # input() takes the string as input from user and store in data variable\n",
    "data_rev = data[::-1] # data[init.index:final.index:step] reverses the string in reverse and store in data_rev\n",
    "print(data_rev) # printing the string as output"
   ]
  },
  {
   "cell_type": "code",
   "execution_count": 17,
   "metadata": {},
   "outputs": [
    {
     "name": "stdout",
     "output_type": "stream",
     "text": [
      "WE,THE PEOPLE OF INDIA,\n",
      "     having solemly resolved to constitute india into a SOVEREIGN,!\n",
      "\t    SOCIALIST, SECULAR,DEMOCRATIC REPUBLIC \n",
      "\t     and to secure to all its citizens\n"
     ]
    }
   ],
   "source": [
    "# Assignment 2.4\n",
    "# A simple program to print the string in the specified format.\n",
    "print(\"WE,THE PEOPLE OF INDIA,\\n\",\"  \",\" having solemly resolved to constitute india into a\"\n",
    "      \" SOVEREIGN,!\\n\\t\",\" \",\" SOCIALIST, SECULAR,DEMOCRATIC REPUBLIC \\n\\t\",\"   \",\"and to secure to all its citizens\")"
   ]
  },
  {
   "cell_type": "code",
   "execution_count": null,
   "metadata": {
    "collapsed": true
   },
   "outputs": [],
   "source": []
  },
  {
   "cell_type": "code",
   "execution_count": null,
   "metadata": {
    "collapsed": true
   },
   "outputs": [],
   "source": []
  },
  {
   "cell_type": "code",
   "execution_count": null,
   "metadata": {
    "collapsed": true
   },
   "outputs": [],
   "source": []
  },
  {
   "cell_type": "code",
   "execution_count": null,
   "metadata": {
    "collapsed": true
   },
   "outputs": [],
   "source": []
  },
  {
   "cell_type": "code",
   "execution_count": null,
   "metadata": {
    "collapsed": true
   },
   "outputs": [],
   "source": []
  },
  {
   "cell_type": "code",
   "execution_count": null,
   "metadata": {
    "collapsed": true
   },
   "outputs": [],
   "source": []
  },
  {
   "cell_type": "code",
   "execution_count": null,
   "metadata": {
    "collapsed": true
   },
   "outputs": [],
   "source": []
  },
  {
   "cell_type": "code",
   "execution_count": null,
   "metadata": {
    "collapsed": true
   },
   "outputs": [],
   "source": []
  }
 ],
 "metadata": {
  "kernelspec": {
   "display_name": "Python 3",
   "language": "python",
   "name": "python3"
  },
  "language_info": {
   "codemirror_mode": {
    "name": "ipython",
    "version": 3
   },
   "file_extension": ".py",
   "mimetype": "text/x-python",
   "name": "python",
   "nbconvert_exporter": "python",
   "pygments_lexer": "ipython3",
   "version": "3.6.2"
  }
 },
 "nbformat": 4,
 "nbformat_minor": 2
}
